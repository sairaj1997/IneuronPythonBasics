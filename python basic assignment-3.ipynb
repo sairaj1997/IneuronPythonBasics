{
 "cells": [
  {
   "cell_type": "raw",
   "metadata": {},
   "source": [
    "#1. Why are functions advantageous to have in your programs?\n",
    "ANS.functions help in reusal of the code.By using fucntions there is no requirement to write the statements repeatedly,it increases readability and eases code updation.\n",
    "\n",
    "#2. When does the code in a function run: when it's specified or when it's called?\n",
    "ANS.when we call the function the code in te function runs.\n",
    "\n",
    "#3. What statement creates a function?\n",
    "ANS.def statement is used to create a function.\n",
    "\n",
    "#4. What is the difference between a function and a function call?\n",
    "ANS.using function we write some logic and using function call we execute the code associated with the function defined.\n",
    "\n",
    "#5. How many global scopes are there in a Python program? How many local scopes?\n",
    "Ans.One global scope can be defined outside the function where as local scopes can be defined inside a function and exisits only till the execution of the function.\n",
    "\n",
    "\n",
    "#6. What happens to variables in a local scope when the function call returns?\n",
    "Ans.The variables get deleted from the local scope as soon as the function execution finishes,they dont exist in the memory after function execution.\n",
    "\n",
    "#7. What is the concept of a return value? Is it possible to have a return value in an expression?\n",
    "Ans.A return is a value that the function returns as soon as it finishes its execution when called by a function call.yes it is possible to have a return value in an expression.\n",
    "\n",
    "#8. If a function does not have a return statement, what is the return value of a call to that function?\n",
    "Ans.None is returned by default if a function does not have any return statement.\n",
    "\n",
    "#9. How do you make a function variable refer to the global variable?\n",
    "Ans.By using global keyword.\n",
    "\n",
    "#10. What is the data type of None?\n",
    "Ans.None type\n",
    "\n",
    "#11. What does the sentence import areallyourpetsnamederic do?\n",
    "Ans.Import model will import the given module\n",
    "\n",
    "#12. If you had a bacon() feature in a spam module, what would you call it after importing spam?\n",
    "Ans.spam.bacon()\n",
    "\n",
    "\n",
    "#13. What can you do to save a programme from crashing if it encounters an error?\n",
    "Ans.Error handling can be used to prevent program from crashing.\n",
    "\n",
    "#14. What is the purpose of the try clause? What is the purpose of the except clause?\n",
    "Ans.try block is used to execute the exception causing statement and except clause is used to catch the exception produced by the try statement."
   ]
  }
 ],
 "metadata": {
  "kernelspec": {
   "display_name": "Python 3",
   "language": "python",
   "name": "python3"
  },
  "language_info": {
   "codemirror_mode": {
    "name": "ipython",
    "version": 3
   },
   "file_extension": ".py",
   "mimetype": "text/x-python",
   "name": "python",
   "nbconvert_exporter": "python",
   "pygments_lexer": "ipython3",
   "version": "3.8.5"
  }
 },
 "nbformat": 4,
 "nbformat_minor": 4
}
