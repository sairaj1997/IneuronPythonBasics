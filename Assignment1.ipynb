{
 "cells": [
  {
   "cell_type": "raw",
   "metadata": {},
   "source": [
    "1. In the below elements which of them are values or an expression? eg:- values can be integer or string and expressions will be mathematical operators.\n",
    "* Expression\n",
    "'hello’=Values\n",
    "-87.8values\n",
    "- expression\n",
    "/ ->Expression\n",
    "+->Expression\n",
    "6 -Values\n",
    "\n",
    "2. What is the difference between string and variable?\n",
    "Ans->string is the variable enclosed between Quotes where as variable is name of the memory location in which we store some data.\n",
    "\n",
    "3. Describe three different data types.\n",
    "Ans->Int, float ,Boolean ,string, char, list , dictionary ,tuple\n",
    "\n",
    "4. What is an expression made up of? What do all expressions do?\n",
    "AnsExpressions are made up of mathematical operands and used for performing on given values.\n",
    "5. This assignment statements, like spam = 10. What is the difference between an expression and a statement?\n",
    "AnsExpression is combination of values  it does some operations on value whereas statements are used to execute commands\n",
    "6. After running the following code, what does the variable bacon contain?\n",
    "bacon = 22\n",
    "bacon + 1\n",
    "ANS23\n",
    "\n",
    "7. What should the values of the following two terms be?\n",
    "'spam' + 'spamspam'\n",
    "'spam' * 3\n",
    "ANS’spamspamspam’\n",
    "spamspamspam\n",
    "\n",
    "8. Why is eggs a valid variable name while 100 is invalid?\n",
    "ANSAccording to variable naming conventions name cannot start with numbers.\n",
    "\n",
    "9. What three functions can be used to get the integer, floating-point number, or string version of a value?\n",
    "Ansfloat(),int(),Str()\n",
    "\n",
    "10. Why does this expression cause an error? How can you fix it?\n",
    "'I have eaten ' + 99 + ' burritos.'\n",
    "Ansnumber cannot be concatenated with a string we can parse it to string using Str() and then perform the above operation\n",
    "\n",
    "\n"
   ]
  }
 ],
 "metadata": {
  "kernelspec": {
   "display_name": "Python 3",
   "language": "python",
   "name": "python3"
  },
  "language_info": {
   "codemirror_mode": {
    "name": "ipython",
    "version": 3
   },
   "file_extension": ".py",
   "mimetype": "text/x-python",
   "name": "python",
   "nbconvert_exporter": "python",
   "pygments_lexer": "ipython3",
   "version": "3.8.5"
  }
 },
 "nbformat": 4,
 "nbformat_minor": 4
}
