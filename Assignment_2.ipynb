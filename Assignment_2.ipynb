{
 "cells": [
  {
   "cell_type": "raw",
   "metadata": {},
   "source": [
    "#1.What are two values of boolean data types? How do you write them?\n",
    "\n",
    "ANS.True and False are the two values that are available in boolean data type, They are writen in combination with logical operators such as <,>,>=,<=.\n",
    "\n",
    "#2.What are three different types of boolean operators?\n",
    "\n",
    "Ans.And,or,Not are the three boolean operators\n",
    "\n",
    "#3.Make a list of each Boolean operator's truth table?\n",
    "\n",
    "Ans.Boolean operators are And,OR,NOT\n",
    "\n",
    "AND TABLE:\n",
    "\n",
    "A B  A AND B\n",
    "T T   T\n",
    "T F   F\n",
    "F T   F\n",
    "F F   F\n",
    "\n",
    "\n",
    "OR TABLE:\n",
    "\n",
    "A B  A OR B\n",
    "T T   T\n",
    "T F   T\n",
    "F T   T\n",
    "F F   F\n",
    "\n",
    "\n",
    "NOT TABLE:\n",
    "\n",
    "A   NOT A\n",
    "T    F\n",
    "F    T\n",
    "\n",
    "#4. What are the values of the following expressions?\n",
    "Ans.\n",
    "(5 > 4) and (3 == 5)-->FALSE\n",
    "not (5 > 4)-->FALSE\n",
    "(5 > 4) or (3 == 5)-->TRUE\n",
    "not ((5 > 4) or (3 == 5))-->FALSE\n",
    "(True and True) and (True == False)-->FALSE\n",
    "(not False) or (not True)-->TRUE\n",
    "\n",
    "#5. What are the six comparison operators?\n",
    "\n",
    "Ans.<,>,<=,>=,!=,==\n",
    "\n",
    "#6.How would you tell the difference between equal to and assignment operator?describe a condition and how you would use one?\n",
    "\n",
    "Ans.equal to opeator is given by == and assignment operator is given by =.condition is a statement which is given \n",
    "by various operators using which one can verify a condition\n",
    "example->\n",
    "n=5\n",
    "if(n%2==0):\n",
    "    print n\n",
    "    \n",
    "#7. Identify the three blocks in this code:\n",
    "ANS-->spam = 0\n",
    "#1st block\n",
    "if spam == 10:\n",
    "    print('eggs')\n",
    "#2nd block\n",
    "if spam > 5:\n",
    "    print('bacon')\n",
    "else:\n",
    "    print('ham')\n",
    "#3rd block\n",
    "print('spam')\n",
    "print('spam')\n",
    "\n",
    "\n"
   ]
  },
  {
   "cell_type": "code",
   "execution_count": 5,
   "metadata": {},
   "outputs": [
    {
     "name": "stdout",
     "output_type": "stream",
     "text": [
      "Greetings!\n"
     ]
    }
   ],
   "source": [
    "#8. Write code that prints Hello if 1 is stored in spam, prints Howdy if 2 is stored in spam, and prints\n",
    "#Greetings! if anything else is stored in spam.\n",
    "\n",
    "\n",
    "#spam=1\n",
    "#spam=2\n",
    "spam=\"nn\"\n",
    "if spam==1:\n",
    "    print(\"Hello\")\n",
    "elif spam==2:\n",
    "    print(\"Howdy\")\n",
    "else:\n",
    "    print(\"Greetings!\")"
   ]
  },
  {
   "cell_type": "raw",
   "metadata": {},
   "source": [
    "#9.If your programme is stuck in an endless loop, what keys you’ll press?\n",
    "Ans-->press ctrl+c to stop the execution\n",
    "\n",
    "\n",
    "10. How can you tell the difference between break and continue?\n",
    "Ans-->Break leaves the loop and executes statements after loop whereas continue goes to the next iteration value \n",
    "skipping the statements after continue.\n",
    "\n"
   ]
  },
  {
   "cell_type": "raw",
   "metadata": {},
   "source": [
    "#11. In a for loop, what is the difference between range(10), range(0, 10), and range(0, 10, 1)?\n",
    "\n",
    "range(10) in a for loop prints number from 0 to 9\n",
    "range(0, 10) in a for loop prints numbers from 0 to 9 where 0 is start range and 10 is stop range\n",
    "range(0,10,1)prints values from range 0 to 9 in the step size of 1"
   ]
  },
  {
   "cell_type": "code",
   "execution_count": 20,
   "metadata": {},
   "outputs": [
    {
     "name": "stdout",
     "output_type": "stream",
     "text": [
      "1\n",
      "2\n",
      "3\n",
      "4\n",
      "5\n",
      "6\n",
      "7\n",
      "8\n",
      "9\n",
      "10\n"
     ]
    }
   ],
   "source": [
    "#12. Write a short program that prints the numbers 1 to 10 using a for loop. Then write an equivalent\n",
    "#program that prints the numbers 1 to 10 using a while loop.\n",
    "\n",
    "\n",
    "#Write a short program that prints the numbers 1 to 10 using a for loop\n",
    "#for i in range(1,10+1):\n",
    " #   print(i)\n",
    "\n",
    "#program that prints the numbers 1 to 10 using a while loop.\n",
    "\n",
    "i=0\n",
    "while i<10:\n",
    "    i=i+1\n",
    "    print(i)"
   ]
  },
  {
   "cell_type": "raw",
   "metadata": {},
   "source": [
    "#13. If you had a function named bacon() inside a module named spam, how would you call it after importing spam?\n",
    "\n",
    "ans-->we must use module name along with the dot operator and the function to call it\n",
    "spam.bacon()\n"
   ]
  }
 ],
 "metadata": {
  "kernelspec": {
   "display_name": "Python 3",
   "language": "python",
   "name": "python3"
  },
  "language_info": {
   "codemirror_mode": {
    "name": "ipython",
    "version": 3
   },
   "file_extension": ".py",
   "mimetype": "text/x-python",
   "name": "python",
   "nbconvert_exporter": "python",
   "pygments_lexer": "ipython3",
   "version": "3.8.5"
  }
 },
 "nbformat": 4,
 "nbformat_minor": 4
}
